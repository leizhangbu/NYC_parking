{
 "cells": [
  {
   "cell_type": "markdown",
   "metadata": {},
   "source": [
    "### This notebook contains 2 parts. Part 1 for training model and part 2 for generating prediction data set from web inputs.\n",
    "\n",
    "# Part 1. Processed Training Data Features Explained\n",
    "\n",
    "N_violation: number of violations, target value to predict.\n",
    "\n",
    "Street: instead of readible names, each street is defined by 'County code'+'5digit street code'. \n",
    "\n",
    "Hour and AP: hour of the day.\n",
    "\n",
    "weekday:  day of the week, from 0 to 6 ( Monday to Sunday).\n",
    "\n",
    "xd before, on day, yd after: whether today is x day before, on or y day after a national holiday. \n",
    "\n",
    "location_x, location_y: longitude and latitude of street's center."
   ]
  },
  {
   "cell_type": "code",
   "execution_count": 217,
   "metadata": {},
   "outputs": [],
   "source": [
    "import pandas as pd\n",
    "import numpy as np\n",
    "import lightgbm as lgb\n",
    "from sklearn.model_selection import train_test_split\n",
    "import dill\n",
    "import warnings\n",
    "warnings.filterwarnings('ignore')"
   ]
  },
  {
   "cell_type": "code",
   "execution_count": 8,
   "metadata": {
    "scrolled": true
   },
   "outputs": [
    {
     "data": {
      "text/html": [
       "<div>\n",
       "<style scoped>\n",
       "    .dataframe tbody tr th:only-of-type {\n",
       "        vertical-align: middle;\n",
       "    }\n",
       "\n",
       "    .dataframe tbody tr th {\n",
       "        vertical-align: top;\n",
       "    }\n",
       "\n",
       "    .dataframe thead th {\n",
       "        text-align: right;\n",
       "    }\n",
       "</style>\n",
       "<table border=\"1\" class=\"dataframe\">\n",
       "  <thead>\n",
       "    <tr style=\"text-align: right;\">\n",
       "      <th></th>\n",
       "      <th>Issue Date</th>\n",
       "      <th>Street</th>\n",
       "      <th>Hour</th>\n",
       "      <th>AP</th>\n",
       "      <th>N_violation</th>\n",
       "      <th>weekday</th>\n",
       "      <th>3d before</th>\n",
       "      <th>2d before</th>\n",
       "      <th>1d before</th>\n",
       "      <th>on day</th>\n",
       "      <th>1d after</th>\n",
       "      <th>2d after</th>\n",
       "      <th>3d after</th>\n",
       "      <th>location_x</th>\n",
       "      <th>location_y</th>\n",
       "      <th>Month</th>\n",
       "    </tr>\n",
       "  </thead>\n",
       "  <tbody>\n",
       "    <tr>\n",
       "      <th>0</th>\n",
       "      <td>2015-01-01</td>\n",
       "      <td>110010</td>\n",
       "      <td>2</td>\n",
       "      <td>P</td>\n",
       "      <td>2</td>\n",
       "      <td>3</td>\n",
       "      <td>False</td>\n",
       "      <td>False</td>\n",
       "      <td>False</td>\n",
       "      <td>True</td>\n",
       "      <td>False</td>\n",
       "      <td>False</td>\n",
       "      <td>False</td>\n",
       "      <td>40.757884</td>\n",
       "      <td>-73.963205</td>\n",
       "      <td>1</td>\n",
       "    </tr>\n",
       "    <tr>\n",
       "      <th>1</th>\n",
       "      <td>2015-01-01</td>\n",
       "      <td>110010</td>\n",
       "      <td>11</td>\n",
       "      <td>A</td>\n",
       "      <td>2</td>\n",
       "      <td>3</td>\n",
       "      <td>False</td>\n",
       "      <td>False</td>\n",
       "      <td>False</td>\n",
       "      <td>True</td>\n",
       "      <td>False</td>\n",
       "      <td>False</td>\n",
       "      <td>False</td>\n",
       "      <td>40.757884</td>\n",
       "      <td>-73.963205</td>\n",
       "      <td>1</td>\n",
       "    </tr>\n",
       "    <tr>\n",
       "      <th>2</th>\n",
       "      <td>2015-01-01</td>\n",
       "      <td>110010</td>\n",
       "      <td>12</td>\n",
       "      <td>P</td>\n",
       "      <td>2</td>\n",
       "      <td>3</td>\n",
       "      <td>False</td>\n",
       "      <td>False</td>\n",
       "      <td>False</td>\n",
       "      <td>True</td>\n",
       "      <td>False</td>\n",
       "      <td>False</td>\n",
       "      <td>False</td>\n",
       "      <td>40.757884</td>\n",
       "      <td>-73.963205</td>\n",
       "      <td>1</td>\n",
       "    </tr>\n",
       "    <tr>\n",
       "      <th>3</th>\n",
       "      <td>2015-01-02</td>\n",
       "      <td>110010</td>\n",
       "      <td>1</td>\n",
       "      <td>P</td>\n",
       "      <td>6</td>\n",
       "      <td>4</td>\n",
       "      <td>False</td>\n",
       "      <td>False</td>\n",
       "      <td>False</td>\n",
       "      <td>False</td>\n",
       "      <td>True</td>\n",
       "      <td>False</td>\n",
       "      <td>False</td>\n",
       "      <td>40.757884</td>\n",
       "      <td>-73.963205</td>\n",
       "      <td>1</td>\n",
       "    </tr>\n",
       "    <tr>\n",
       "      <th>4</th>\n",
       "      <td>2015-01-02</td>\n",
       "      <td>110010</td>\n",
       "      <td>2</td>\n",
       "      <td>P</td>\n",
       "      <td>12</td>\n",
       "      <td>4</td>\n",
       "      <td>False</td>\n",
       "      <td>False</td>\n",
       "      <td>False</td>\n",
       "      <td>False</td>\n",
       "      <td>True</td>\n",
       "      <td>False</td>\n",
       "      <td>False</td>\n",
       "      <td>40.757884</td>\n",
       "      <td>-73.963205</td>\n",
       "      <td>1</td>\n",
       "    </tr>\n",
       "  </tbody>\n",
       "</table>\n",
       "</div>"
      ],
      "text/plain": [
       "   Issue Date  Street  Hour AP  N_violation  weekday  3d before  2d before  \\\n",
       "0  2015-01-01  110010     2  P            2        3      False      False   \n",
       "1  2015-01-01  110010    11  A            2        3      False      False   \n",
       "2  2015-01-01  110010    12  P            2        3      False      False   \n",
       "3  2015-01-02  110010     1  P            6        4      False      False   \n",
       "4  2015-01-02  110010     2  P           12        4      False      False   \n",
       "\n",
       "   1d before  on day  1d after  2d after  3d after  location_x  location_y  \\\n",
       "0      False    True     False     False     False   40.757884  -73.963205   \n",
       "1      False    True     False     False     False   40.757884  -73.963205   \n",
       "2      False    True     False     False     False   40.757884  -73.963205   \n",
       "3      False   False      True     False     False   40.757884  -73.963205   \n",
       "4      False   False      True     False     False   40.757884  -73.963205   \n",
       "\n",
       "   Month  \n",
       "0      1  \n",
       "1      1  \n",
       "2      1  \n",
       "3      1  \n",
       "4      1  "
      ]
     },
     "execution_count": 8,
     "metadata": {},
     "output_type": "execute_result"
    }
   ],
   "source": [
    "df_train =  pd.read_csv('../data/training.csv')\n",
    "df_train.head()"
   ]
  },
  {
   "cell_type": "code",
   "execution_count": 158,
   "metadata": {
    "scrolled": true
   },
   "outputs": [
    {
     "data": {
      "text/html": [
       "<div>\n",
       "<style scoped>\n",
       "    .dataframe tbody tr th:only-of-type {\n",
       "        vertical-align: middle;\n",
       "    }\n",
       "\n",
       "    .dataframe tbody tr th {\n",
       "        vertical-align: top;\n",
       "    }\n",
       "\n",
       "    .dataframe thead th {\n",
       "        text-align: right;\n",
       "    }\n",
       "</style>\n",
       "<table border=\"1\" class=\"dataframe\">\n",
       "  <thead>\n",
       "    <tr style=\"text-align: right;\">\n",
       "      <th></th>\n",
       "      <th>Issue Date</th>\n",
       "      <th>Street</th>\n",
       "      <th>weekday</th>\n",
       "      <th>3d before</th>\n",
       "      <th>2d before</th>\n",
       "      <th>1d before</th>\n",
       "      <th>on day</th>\n",
       "      <th>1d after</th>\n",
       "      <th>2d after</th>\n",
       "      <th>3d after</th>\n",
       "      <th>location_x</th>\n",
       "      <th>location_y</th>\n",
       "      <th>Month</th>\n",
       "      <th>N_violation</th>\n",
       "      <th>time</th>\n",
       "      <th>Overall</th>\n",
       "    </tr>\n",
       "  </thead>\n",
       "  <tbody>\n",
       "    <tr>\n",
       "      <th>23</th>\n",
       "      <td>2014-06-10</td>\n",
       "      <td>110010</td>\n",
       "      <td>1</td>\n",
       "      <td>False</td>\n",
       "      <td>False</td>\n",
       "      <td>False</td>\n",
       "      <td>False</td>\n",
       "      <td>False</td>\n",
       "      <td>False</td>\n",
       "      <td>False</td>\n",
       "      <td>40.757884</td>\n",
       "      <td>-73.963205</td>\n",
       "      <td>6</td>\n",
       "      <td>0.000061</td>\n",
       "      <td>Morning</td>\n",
       "      <td>16448</td>\n",
       "    </tr>\n",
       "    <tr>\n",
       "      <th>13</th>\n",
       "      <td>2014-06-11</td>\n",
       "      <td>110010</td>\n",
       "      <td>2</td>\n",
       "      <td>False</td>\n",
       "      <td>False</td>\n",
       "      <td>False</td>\n",
       "      <td>False</td>\n",
       "      <td>False</td>\n",
       "      <td>False</td>\n",
       "      <td>False</td>\n",
       "      <td>40.757884</td>\n",
       "      <td>-73.963205</td>\n",
       "      <td>6</td>\n",
       "      <td>0.000061</td>\n",
       "      <td>Noon</td>\n",
       "      <td>16448</td>\n",
       "    </tr>\n",
       "    <tr>\n",
       "      <th>62</th>\n",
       "      <td>2014-06-13</td>\n",
       "      <td>110010</td>\n",
       "      <td>4</td>\n",
       "      <td>False</td>\n",
       "      <td>False</td>\n",
       "      <td>False</td>\n",
       "      <td>False</td>\n",
       "      <td>False</td>\n",
       "      <td>False</td>\n",
       "      <td>False</td>\n",
       "      <td>40.757884</td>\n",
       "      <td>-73.963205</td>\n",
       "      <td>6</td>\n",
       "      <td>0.000061</td>\n",
       "      <td>Noon</td>\n",
       "      <td>16448</td>\n",
       "    </tr>\n",
       "    <tr>\n",
       "      <th>61</th>\n",
       "      <td>2014-06-14</td>\n",
       "      <td>110010</td>\n",
       "      <td>5</td>\n",
       "      <td>False</td>\n",
       "      <td>False</td>\n",
       "      <td>False</td>\n",
       "      <td>False</td>\n",
       "      <td>False</td>\n",
       "      <td>False</td>\n",
       "      <td>False</td>\n",
       "      <td>40.757884</td>\n",
       "      <td>-73.963205</td>\n",
       "      <td>6</td>\n",
       "      <td>0.000061</td>\n",
       "      <td>Afternoon</td>\n",
       "      <td>16448</td>\n",
       "    </tr>\n",
       "    <tr>\n",
       "      <th>136</th>\n",
       "      <td>2014-06-14</td>\n",
       "      <td>110010</td>\n",
       "      <td>5</td>\n",
       "      <td>False</td>\n",
       "      <td>False</td>\n",
       "      <td>False</td>\n",
       "      <td>False</td>\n",
       "      <td>False</td>\n",
       "      <td>False</td>\n",
       "      <td>False</td>\n",
       "      <td>40.757884</td>\n",
       "      <td>-73.963205</td>\n",
       "      <td>6</td>\n",
       "      <td>0.000061</td>\n",
       "      <td>Evening</td>\n",
       "      <td>16448</td>\n",
       "    </tr>\n",
       "  </tbody>\n",
       "</table>\n",
       "</div>"
      ],
      "text/plain": [
       "     Issue Date  Street  weekday  3d before  2d before  1d before  on day  \\\n",
       "23   2014-06-10  110010        1      False      False      False   False   \n",
       "13   2014-06-11  110010        2      False      False      False   False   \n",
       "62   2014-06-13  110010        4      False      False      False   False   \n",
       "61   2014-06-14  110010        5      False      False      False   False   \n",
       "136  2014-06-14  110010        5      False      False      False   False   \n",
       "\n",
       "     1d after  2d after  3d after  location_x  location_y  Month  N_violation  \\\n",
       "23      False     False     False   40.757884  -73.963205      6     0.000061   \n",
       "13      False     False     False   40.757884  -73.963205      6     0.000061   \n",
       "62      False     False     False   40.757884  -73.963205      6     0.000061   \n",
       "61      False     False     False   40.757884  -73.963205      6     0.000061   \n",
       "136     False     False     False   40.757884  -73.963205      6     0.000061   \n",
       "\n",
       "          time  Overall  \n",
       "23     Morning    16448  \n",
       "13        Noon    16448  \n",
       "62        Noon    16448  \n",
       "61   Afternoon    16448  \n",
       "136    Evening    16448  "
      ]
     },
     "execution_count": 158,
     "metadata": {},
     "output_type": "execute_result"
    }
   ],
   "source": [
    "\n",
    "columns = df_train.columns\n",
    "columns = columns.drop(['Hour','AP'])\n",
    "columns_g = columns.drop(['N_violation'])\n",
    "\n",
    "\n",
    "#morning\n",
    "df_tmp = df_train\n",
    "df_tmp=df_tmp[(df_tmp.AP=='A')&(df_tmp.Hour<11)][columns]\n",
    "df_tmp = df_tmp.groupby(list(columns_g))['N_violation'].sum().reset_index()\n",
    "df_tmp['time'] = ['Morning']*len(df_tmp)\n",
    "df_morning = df_tmp\n",
    "\n",
    "#noon\n",
    "df_tmp = df_train\n",
    "df_tmp=df_tmp[((df_tmp.AP=='P')&(df_tmp.Hour<=2))|((df_tmp.AP=='A')&(df_tmp.Hour>=11))][columns]\n",
    "df_tmp = df_tmp.groupby(list(columns_g))['N_violation'].sum().reset_index()\n",
    "df_tmp['time'] = ['Noon']*len(df_tmp)\n",
    "df_noon = df_tmp\n",
    "\n",
    "#Afternoon\n",
    "df_tmp = df_train\n",
    "df_tmp=df_tmp[(df_tmp.AP=='P')&(df_tmp.Hour<=6)&(df_tmp.Hour>2)][columns]\n",
    "df_tmp = df_tmp.groupby(list(columns_g))['N_violation'].sum().reset_index()\n",
    "df_tmp['time'] = ['Afternoon']*len(df_tmp)\n",
    "df_afternoon = df_tmp\n",
    "\n",
    "#Afternoon\n",
    "df_tmp = df_train\n",
    "df_tmp=df_tmp[(df_tmp.AP=='P')&(df_tmp.Hour>6)][columns]\n",
    "df_tmp = df_tmp.groupby(list(columns_g))['N_violation'].sum().reset_index()\n",
    "df_tmp['time'] = ['Evening']*len(df_tmp)\n",
    "df_evening = df_tmp\n",
    "\n",
    "\n",
    "df_all = df_morning.append(df_noon).append(df_afternoon).append(df_evening)\n",
    "df_all = df_all.sort_values(['Street','Issue Date'])\n",
    "# get overall violation\n",
    "df_overall = df_all[['Street','N_violation']].groupby(['Street'])['N_violation'].sum().reset_index()\n",
    "dict_overall = dict(zip(df_overall['Street'],df_overall['N_violation']))\n",
    "dill.dump(dict_overall,open('../data/dict_overall.pkd','wb'))\n",
    "\n",
    "df_all['Overall'] = df_all['Street'].map(lambda x: dict_overall[x] if x in dict_overall else 0)\n",
    "df_all['N_violation'] =df_all['N_violation']/df_all['Overall'] \n",
    "df_all.head()"
   ]
  },
  {
   "cell_type": "markdown",
   "metadata": {},
   "source": [
    "### Model\n",
    "\n",
    "Tree regressor model (lighgbm) is picked for training. In these features, 'Street', 'time' and 'Month' are set to be categorical features, as number has no meaning in this case. After several trials, parameters of tree is chosen in the following way. Early stop is employed to make best prediction on test data. "
   ]
  },
  {
   "cell_type": "code",
   "execution_count": 166,
   "metadata": {
    "scrolled": true
   },
   "outputs": [
    {
     "name": "stdout",
     "output_type": "stream",
     "text": [
      "Starting training...\n",
      "[LightGBM] [Warning] Find whitespaces in feature_names, replace with underlines\n",
      "[LightGBM] [Warning] Auto-choosing row-wise multi-threading, the overhead of testing was 0.006183 seconds.\n",
      "You can set `force_row_wise=true` to remove the overhead.\n",
      "And if memory is not enough, you can set `force_col_wise=true`.\n",
      "[LightGBM] [Info] Total Bins 549\n",
      "[LightGBM] [Info] Number of data points in the train set: 580167, number of used features: 12\n"
     ]
    },
    {
     "name": "stderr",
     "output_type": "stream",
     "text": [
      "C:\\ProgramData\\Anaconda3\\lib\\site-packages\\lightgbm\\basic.py:1286: UserWarning: Overriding the parameters from Reference Dataset.\n",
      "  warnings.warn('Overriding the parameters from Reference Dataset.')\n",
      "C:\\ProgramData\\Anaconda3\\lib\\site-packages\\lightgbm\\basic.py:1098: UserWarning: categorical_column in param dict is overridden.\n",
      "  warnings.warn('{} in param dict is overridden.'.format(cat_alias))\n"
     ]
    },
    {
     "name": "stdout",
     "output_type": "stream",
     "text": [
      "[LightGBM] [Warning] Find whitespaces in feature_names, replace with underlines\n",
      "[LightGBM] [Info] Start training from score 0.008857\n",
      "Training until validation scores don't improve for 100 rounds\n",
      "[50]\ttraining's l2: 0.00162289\tvalid_1's l2: 0.00167681\n",
      "[100]\ttraining's l2: 0.00149237\tvalid_1's l2: 0.00155941\n",
      "[150]\ttraining's l2: 0.00142584\tvalid_1's l2: 0.00150478\n",
      "[200]\ttraining's l2: 0.00138689\tvalid_1's l2: 0.00147575\n",
      "[250]\ttraining's l2: 0.00136057\tvalid_1's l2: 0.00145924\n",
      "[300]\ttraining's l2: 0.00134091\tvalid_1's l2: 0.0014493\n",
      "[350]\ttraining's l2: 0.00132393\tvalid_1's l2: 0.00144245\n",
      "[400]\ttraining's l2: 0.00130981\tvalid_1's l2: 0.00143886\n",
      "[450]\ttraining's l2: 0.0012964\tvalid_1's l2: 0.00143437\n",
      "[500]\ttraining's l2: 0.00128416\tvalid_1's l2: 0.00143079\n",
      "[550]\ttraining's l2: 0.00127321\tvalid_1's l2: 0.00142811\n",
      "[600]\ttraining's l2: 0.00126274\tvalid_1's l2: 0.00142561\n",
      "[650]\ttraining's l2: 0.00125309\tvalid_1's l2: 0.00142306\n",
      "[700]\ttraining's l2: 0.00124429\tvalid_1's l2: 0.00142148\n",
      "[750]\ttraining's l2: 0.00123533\tvalid_1's l2: 0.00141941\n",
      "[800]\ttraining's l2: 0.00122761\tvalid_1's l2: 0.00141838\n",
      "[850]\ttraining's l2: 0.00122052\tvalid_1's l2: 0.00141758\n",
      "[900]\ttraining's l2: 0.00121321\tvalid_1's l2: 0.00141616\n",
      "[950]\ttraining's l2: 0.00120583\tvalid_1's l2: 0.00141415\n",
      "[1000]\ttraining's l2: 0.00119847\tvalid_1's l2: 0.00141283\n",
      "[1050]\ttraining's l2: 0.00119252\tvalid_1's l2: 0.00141253\n",
      "[1100]\ttraining's l2: 0.00118585\tvalid_1's l2: 0.0014121\n",
      "[1150]\ttraining's l2: 0.00117918\tvalid_1's l2: 0.0014102\n",
      "[1200]\ttraining's l2: 0.00117328\tvalid_1's l2: 0.00141038\n",
      "[1250]\ttraining's l2: 0.00116703\tvalid_1's l2: 0.00140945\n",
      "[1300]\ttraining's l2: 0.00116128\tvalid_1's l2: 0.00140886\n",
      "[1350]\ttraining's l2: 0.00115563\tvalid_1's l2: 0.00140832\n",
      "[1400]\ttraining's l2: 0.00115015\tvalid_1's l2: 0.00140713\n",
      "[1450]\ttraining's l2: 0.00114533\tvalid_1's l2: 0.00140708\n",
      "[1500]\ttraining's l2: 0.00114051\tvalid_1's l2: 0.00140662\n",
      "[1550]\ttraining's l2: 0.00113548\tvalid_1's l2: 0.00140611\n",
      "[1600]\ttraining's l2: 0.00113019\tvalid_1's l2: 0.00140565\n",
      "[1650]\ttraining's l2: 0.00112567\tvalid_1's l2: 0.00140544\n",
      "[1700]\ttraining's l2: 0.00112096\tvalid_1's l2: 0.00140474\n",
      "[1750]\ttraining's l2: 0.0011172\tvalid_1's l2: 0.0014042\n",
      "[1800]\ttraining's l2: 0.00111319\tvalid_1's l2: 0.00140426\n",
      "Early stopping, best iteration is:\n",
      "[1722]\ttraining's l2: 0.00111913\tvalid_1's l2: 0.00140403\n"
     ]
    },
    {
     "data": {
      "text/plain": [
       "<lightgbm.basic.Booster at 0x1c08f84b588>"
      ]
     },
     "execution_count": 166,
     "metadata": {},
     "output_type": "execute_result"
    }
   ],
   "source": [
    "import lightgbm as lgb\n",
    "from sklearn.model_selection import train_test_split\n",
    "df =df_all\n",
    "\n",
    "train_label = [ 'weekday','3d before', '2d before', '1d before', 'on day', '1d after', '2d after','3d after',\\\n",
    "               'location_x', 'location_y','Month','time']\n",
    "target = 'N_violation'\n",
    "\n",
    "categorical_feats=['time','Month']\n",
    "for c in categorical_feats:\n",
    "    df[c] = df[c].astype('category')\n",
    "    \n",
    "test_size=0.25\n",
    "train_data,test_data = train_test_split(df, test_size=test_size, random_state=0)# for validation\n",
    "\n",
    "y_train = train_data[target].values\n",
    "X_train = train_data[train_label]\n",
    "y_test = test_data[target].values\n",
    "X_test = test_data[train_label]\n",
    "\n",
    "\n",
    "lgb_train = lgb.Dataset(X_train, y_train)\n",
    "lgb_eval = lgb.Dataset(X_test, y_test)\n",
    "\n",
    "\n",
    "# specify your configurations as a dict\n",
    "params = {\n",
    "    'boosting_type': 'gbdt',\n",
    "    'objective': 'mse',\n",
    "    'metric': {'mse'},\n",
    "    'num_leaves':32,\n",
    "    'learning_rate': 0.01,\n",
    "    'feature_fraction': 1.0,\n",
    "    'bagging_fraction': 0.5,\n",
    "    'bagging_freq': 1,\n",
    "    'verbose': 1,\n",
    "    'min_data_in_leaf':1,\n",
    "    'is_training_metric': True,\n",
    "    #'max_bin':2,\n",
    "    'min_data_in_bin':10,\n",
    "    \n",
    "}\n",
    "\n",
    "print('Starting training...')\n",
    "# train\n",
    "Nround  =2000\n",
    "evals_result = {}  \n",
    "gbm = lgb.train(params,\n",
    "                lgb_train,\n",
    "                num_boost_round=Nround,\n",
    "                valid_sets=[lgb_train, lgb_eval],\n",
    "                early_stopping_rounds=100,\n",
    "                evals_result=evals_result,\n",
    "                verbose_eval=50)\n",
    "gbm.save_model('lgbm_fit.txt')"
   ]
  },
  {
   "cell_type": "markdown",
   "metadata": {},
   "source": [
    "### Learning Curve"
   ]
  },
  {
   "cell_type": "code",
   "execution_count": 168,
   "metadata": {},
   "outputs": [
    {
     "data": {
      "text/plain": [
       "<matplotlib.axes._subplots.AxesSubplot at 0x1c08ec5aac8>"
      ]
     },
     "execution_count": 168,
     "metadata": {},
     "output_type": "execute_result"
    },
    {
     "data": {
      "image/png": "[encoded data removed]",
      "text/plain": [
       "<matplotlib.figure.Figure at 0x1c08f84bc18>"
      ]
     },
     "metadata": {
      "needs_background": "light"
     },
     "output_type": "display_data"
    }
   ],
   "source": [
    "lgb.plot_metric(evals_result)"
   ]
  },
  {
   "cell_type": "markdown",
   "metadata": {},
   "source": [
    "### Feature Importance"
   ]
  },
  {
   "cell_type": "code",
   "execution_count": 169,
   "metadata": {},
   "outputs": [
    {
     "data": {
      "text/plain": [
       "<matplotlib.axes._subplots.AxesSubplot at 0x1c08ec5ada0>"
      ]
     },
     "execution_count": 169,
     "metadata": {},
     "output_type": "execute_result"
    },
    {
     "data": {
      "image/png": "[encoded data removed]",
      "text/plain": [
       "<matplotlib.figure.Figure at 0x1c08ec782b0>"
      ]
     },
     "metadata": {
      "needs_background": "light"
     },
     "output_type": "display_data"
    }
   ],
   "source": [
    "lgb.plot_importance(gbm)"
   ]
  },
  {
   "cell_type": "markdown",
   "metadata": {},
   "source": [
    "# Part 2. Predict from web input\n",
    "\n",
    "In the website, user has three options\n",
    "\n",
    "a) location, the name of a street.\n",
    "\n",
    "b) time of the day (morning, noon, afternoon,evening)\n",
    "\n",
    "c) date up to next 7 days\n",
    "\n",
    "For example:"
   ]
  },
  {
   "cell_type": "code",
   "execution_count": 210,
   "metadata": {},
   "outputs": [],
   "source": [
    "Street_str = 'Times Square'\n",
    "User_time = 'Noon'\n",
    "num_date = 3 # 3 days from today, the option look like '11-15-2020' in the web "
   ]
  },
  {
   "cell_type": "markdown",
   "metadata": {},
   "source": [
    "### Generate dataframe for prediction\n",
    "\n",
    "a) pick nearby streets for prediction\n",
    "\n",
    "b) add month and weekday features\n",
    "\n"
   ]
  },
  {
   "cell_type": "code",
   "execution_count": 138,
   "metadata": {},
   "outputs": [],
   "source": [
    "# find nearby streets\n",
    "import dill\n",
    "from geopy import Nominatim\n",
    "df_street = dill.load(open('../data/df_street.pkd', 'rb'))\n",
    "geolocator = Nominatim(user_agent=\"lz-application\")\n",
    "def nearby_locations(Street_str,df_street,size =0.03):\n",
    "    location = geolocator.geocode(Street_str+' NYC')\n",
    "    if not location:\n",
    "        return []\n",
    "    else:\n",
    "        #df_street['distance'] = np.sqrt((df_street.location_x-location.latitude)**2+(df_street.location_y-location.longitude)**2)\n",
    "        df_street=df_street[(df_street.location_x<(location.latitude+size))& (df_street.location_x>(location.latitude-size))\\\n",
    "                           &(df_street.location_y<(location.longitude+size))&(df_street.location_y>(location.longitude-size))]\n",
    "        return df_street, location\n",
    "street_nearby,location = nearby_locations(Street_str,df_street)"
   ]
  },
  {
   "cell_type": "code",
   "execution_count": 139,
   "metadata": {},
   "outputs": [
    {
     "data": {
      "text/html": [
       "<div>\n",
       "<style scoped>\n",
       "    .dataframe tbody tr th:only-of-type {\n",
       "        vertical-align: middle;\n",
       "    }\n",
       "\n",
       "    .dataframe tbody tr th {\n",
       "        vertical-align: top;\n",
       "    }\n",
       "\n",
       "    .dataframe thead th {\n",
       "        text-align: right;\n",
       "    }\n",
       "</style>\n",
       "<table border=\"1\" class=\"dataframe\">\n",
       "  <thead>\n",
       "    <tr style=\"text-align: right;\">\n",
       "      <th></th>\n",
       "      <th>location_x</th>\n",
       "      <th>location_y</th>\n",
       "      <th>street</th>\n",
       "    </tr>\n",
       "  </thead>\n",
       "  <tbody>\n",
       "    <tr>\n",
       "      <th>0</th>\n",
       "      <td>40.650043</td>\n",
       "      <td>-74.010814</td>\n",
       "      <td>305280</td>\n",
       "    </tr>\n",
       "    <tr>\n",
       "      <th>1</th>\n",
       "      <td>40.738908</td>\n",
       "      <td>-73.809556</td>\n",
       "      <td>447390</td>\n",
       "    </tr>\n",
       "  </tbody>\n",
       "</table>\n",
       "</div>"
      ],
      "text/plain": [
       "   location_x  location_y  street\n",
       "0   40.650043  -74.010814  305280\n",
       "1   40.738908  -73.809556  447390"
      ]
     },
     "execution_count": 139,
     "metadata": {},
     "output_type": "execute_result"
    }
   ],
   "source": [
    "df_street.head(2)"
   ]
  },
  {
   "cell_type": "code",
   "execution_count": 9,
   "metadata": {},
   "outputs": [
    {
     "data": {
      "text/html": [
       "<div>\n",
       "<style scoped>\n",
       "    .dataframe tbody tr th:only-of-type {\n",
       "        vertical-align: middle;\n",
       "    }\n",
       "\n",
       "    .dataframe tbody tr th {\n",
       "        vertical-align: top;\n",
       "    }\n",
       "\n",
       "    .dataframe thead th {\n",
       "        text-align: right;\n",
       "    }\n",
       "</style>\n",
       "<table border=\"1\" class=\"dataframe\">\n",
       "  <thead>\n",
       "    <tr style=\"text-align: right;\">\n",
       "      <th></th>\n",
       "      <th>location_x</th>\n",
       "      <th>location_y</th>\n",
       "      <th>street</th>\n",
       "    </tr>\n",
       "  </thead>\n",
       "  <tbody>\n",
       "    <tr>\n",
       "      <th>7</th>\n",
       "      <td>40.747630</td>\n",
       "      <td>-73.979730</td>\n",
       "      <td>100059</td>\n",
       "    </tr>\n",
       "    <tr>\n",
       "      <th>13</th>\n",
       "      <td>40.741881</td>\n",
       "      <td>-74.001638</td>\n",
       "      <td>134110</td>\n",
       "    </tr>\n",
       "  </tbody>\n",
       "</table>\n",
       "</div>"
      ],
      "text/plain": [
       "    location_x  location_y  street\n",
       "7    40.747630  -73.979730  100059\n",
       "13   40.741881  -74.001638  134110"
      ]
     },
     "execution_count": 9,
     "metadata": {},
     "output_type": "execute_result"
    }
   ],
   "source": [
    "street_nearby.head(2)"
   ]
  },
  {
   "cell_type": "code",
   "execution_count": 140,
   "metadata": {},
   "outputs": [
    {
     "data": {
      "text/plain": [
       "Location(Times Square, West 45th Street, Times Square, Manhattan Community Board 5, Times Square, New York County, New York, 10036, United States of America, (40.757280550000004, -73.98585503545917, 0.0))"
      ]
     },
     "execution_count": 140,
     "metadata": {},
     "output_type": "execute_result"
    }
   ],
   "source": [
    "# destination of user\n",
    "location"
   ]
  },
  {
   "cell_type": "markdown",
   "metadata": {},
   "source": [
    "### Date Feature\n",
    "\n",
    "Get desired date first"
   ]
  },
  {
   "cell_type": "code",
   "execution_count": 141,
   "metadata": {},
   "outputs": [
    {
     "data": {
      "text/plain": [
       "datetime.date(2020, 11, 16)"
      ]
     },
     "execution_count": 141,
     "metadata": {},
     "output_type": "execute_result"
    }
   ],
   "source": [
    "from datetime import date,timedelta\n",
    "today=date.today()\n",
    "User_day=today+ timedelta(days=num_date)\n",
    "User_day"
   ]
  },
  {
   "cell_type": "markdown",
   "metadata": {},
   "source": [
    "get day of week and month"
   ]
  },
  {
   "cell_type": "code",
   "execution_count": 142,
   "metadata": {},
   "outputs": [
    {
     "data": {
      "text/plain": [
       "0"
      ]
     },
     "execution_count": 142,
     "metadata": {},
     "output_type": "execute_result"
    }
   ],
   "source": [
    "week_day = User_day.weekday()\n",
    "week_day"
   ]
  },
  {
   "cell_type": "code",
   "execution_count": 143,
   "metadata": {},
   "outputs": [
    {
     "data": {
      "text/plain": [
       "11"
      ]
     },
     "execution_count": 143,
     "metadata": {},
     "output_type": "execute_result"
    }
   ],
   "source": [
    "month = User_day.month\n",
    "month"
   ]
  },
  {
   "cell_type": "markdown",
   "metadata": {},
   "source": [
    "Find information on holiday"
   ]
  },
  {
   "cell_type": "code",
   "execution_count": 144,
   "metadata": {},
   "outputs": [
    {
     "data": {
      "text/plain": [
       "{'1d after': False,\n",
       " '1d before': False,\n",
       " '2d after': False,\n",
       " '2d before': False,\n",
       " '3d after': False,\n",
       " '3d before': False,\n",
       " 'on day': False}"
      ]
     },
     "execution_count": 144,
     "metadata": {},
     "output_type": "execute_result"
    }
   ],
   "source": [
    "def Find_holiday_value(User_day):\n",
    "    Holidays = ['11/26/2020','12/25/2020','01/01/2021','01/18/2021','02/15/2021',\\\n",
    "               '04/19/2021','05/31/2021','07/05/2021','09/06/2021','10/11/2021']\n",
    "    \n",
    "    check_holiday={}\n",
    "    for i in range(-3,4):\n",
    "        if i<0:\n",
    "            column_name = str(-i)+'d before'\n",
    "        elif i==0:\n",
    "            column_name = 'on day'\n",
    "        else:\n",
    "            column_name = str(i)+'d after'\n",
    "\n",
    "        holi_tmp=pd.DatetimeIndex(Holidays).shift(i, freq='D')\n",
    "        check_holiday[column_name] = User_day in holi_tmp\n",
    "    return check_holiday\n",
    "holiday_info = Find_holiday_value(User_day)\n",
    "holiday_info "
   ]
  },
  {
   "cell_type": "code",
   "execution_count": 145,
   "metadata": {},
   "outputs": [
    {
     "data": {
      "text/plain": [
       "{'1d after': False,\n",
       " '1d before': True,\n",
       " '2d after': False,\n",
       " '2d before': False,\n",
       " '3d after': False,\n",
       " '3d before': False,\n",
       " 'on day': False}"
      ]
     },
     "execution_count": 145,
     "metadata": {},
     "output_type": "execute_result"
    }
   ],
   "source": [
    "#test\n",
    "Find_holiday_value('11/25/2020')"
   ]
  },
  {
   "cell_type": "markdown",
   "metadata": {},
   "source": [
    "### Glue together for prediction"
   ]
  },
  {
   "cell_type": "code",
   "execution_count": 146,
   "metadata": {},
   "outputs": [
    {
     "data": {
      "text/plain": [
       "['Street',\n",
       " 'weekday',\n",
       " '3d before',\n",
       " '2d before',\n",
       " '1d before',\n",
       " 'on day',\n",
       " '1d after',\n",
       " '2d after',\n",
       " '3d after',\n",
       " 'location_x',\n",
       " 'location_y',\n",
       " 'Month',\n",
       " 'time']"
      ]
     },
     "execution_count": 146,
     "metadata": {},
     "output_type": "execute_result"
    }
   ],
   "source": [
    "train_label"
   ]
  },
  {
   "cell_type": "code",
   "execution_count": 180,
   "metadata": {
    "scrolled": true
   },
   "outputs": [
    {
     "name": "stderr",
     "output_type": "stream",
     "text": [
      "C:\\Users\\leizhang\\AppData\\Roaming\\Python\\Python36\\site-packages\\ipykernel_launcher.py:2: SettingWithCopyWarning: \n",
      "A value is trying to be set on a copy of a slice from a DataFrame.\n",
      "Try using .loc[row_indexer,col_indexer] = value instead\n",
      "\n",
      "See the caveats in the documentation: http://pandas.pydata.org/pandas-docs/stable/indexing.html#indexing-view-versus-copy\n",
      "  \n",
      "C:\\Users\\leizhang\\AppData\\Roaming\\Python\\Python36\\site-packages\\ipykernel_launcher.py:3: SettingWithCopyWarning: \n",
      "A value is trying to be set on a copy of a slice from a DataFrame.\n",
      "Try using .loc[row_indexer,col_indexer] = value instead\n",
      "\n",
      "See the caveats in the documentation: http://pandas.pydata.org/pandas-docs/stable/indexing.html#indexing-view-versus-copy\n",
      "  This is separate from the ipykernel package so we can avoid doing imports until\n",
      "C:\\Users\\leizhang\\AppData\\Roaming\\Python\\Python36\\site-packages\\ipykernel_launcher.py:4: SettingWithCopyWarning: \n",
      "A value is trying to be set on a copy of a slice from a DataFrame.\n",
      "Try using .loc[row_indexer,col_indexer] = value instead\n",
      "\n",
      "See the caveats in the documentation: http://pandas.pydata.org/pandas-docs/stable/indexing.html#indexing-view-versus-copy\n",
      "  after removing the cwd from sys.path.\n",
      "C:\\Users\\leizhang\\AppData\\Roaming\\Python\\Python36\\site-packages\\ipykernel_launcher.py:6: SettingWithCopyWarning: \n",
      "A value is trying to be set on a copy of a slice from a DataFrame.\n",
      "Try using .loc[row_indexer,col_indexer] = value instead\n",
      "\n",
      "See the caveats in the documentation: http://pandas.pydata.org/pandas-docs/stable/indexing.html#indexing-view-versus-copy\n",
      "  \n"
     ]
    },
    {
     "data": {
      "text/html": [
       "<div>\n",
       "<style scoped>\n",
       "    .dataframe tbody tr th:only-of-type {\n",
       "        vertical-align: middle;\n",
       "    }\n",
       "\n",
       "    .dataframe tbody tr th {\n",
       "        vertical-align: top;\n",
       "    }\n",
       "\n",
       "    .dataframe thead th {\n",
       "        text-align: right;\n",
       "    }\n",
       "</style>\n",
       "<table border=\"1\" class=\"dataframe\">\n",
       "  <thead>\n",
       "    <tr style=\"text-align: right;\">\n",
       "      <th></th>\n",
       "      <th>location_x</th>\n",
       "      <th>location_y</th>\n",
       "      <th>Street</th>\n",
       "      <th>time</th>\n",
       "      <th>weekday</th>\n",
       "      <th>Month</th>\n",
       "      <th>3d before</th>\n",
       "      <th>2d before</th>\n",
       "      <th>1d before</th>\n",
       "      <th>on day</th>\n",
       "      <th>1d after</th>\n",
       "      <th>2d after</th>\n",
       "      <th>3d after</th>\n",
       "      <th>Overall</th>\n",
       "    </tr>\n",
       "  </thead>\n",
       "  <tbody>\n",
       "    <tr>\n",
       "      <th>7</th>\n",
       "      <td>40.747630</td>\n",
       "      <td>-73.979730</td>\n",
       "      <td>100059</td>\n",
       "      <td>Noon</td>\n",
       "      <td>0</td>\n",
       "      <td>11</td>\n",
       "      <td>False</td>\n",
       "      <td>False</td>\n",
       "      <td>False</td>\n",
       "      <td>False</td>\n",
       "      <td>False</td>\n",
       "      <td>False</td>\n",
       "      <td>False</td>\n",
       "      <td>0</td>\n",
       "    </tr>\n",
       "    <tr>\n",
       "      <th>13</th>\n",
       "      <td>40.741881</td>\n",
       "      <td>-74.001638</td>\n",
       "      <td>134110</td>\n",
       "      <td>Noon</td>\n",
       "      <td>0</td>\n",
       "      <td>11</td>\n",
       "      <td>False</td>\n",
       "      <td>False</td>\n",
       "      <td>False</td>\n",
       "      <td>False</td>\n",
       "      <td>False</td>\n",
       "      <td>False</td>\n",
       "      <td>False</td>\n",
       "      <td>1503</td>\n",
       "    </tr>\n",
       "    <tr>\n",
       "      <th>22</th>\n",
       "      <td>40.762040</td>\n",
       "      <td>-73.965783</td>\n",
       "      <td>118190</td>\n",
       "      <td>Noon</td>\n",
       "      <td>0</td>\n",
       "      <td>11</td>\n",
       "      <td>False</td>\n",
       "      <td>False</td>\n",
       "      <td>False</td>\n",
       "      <td>False</td>\n",
       "      <td>False</td>\n",
       "      <td>False</td>\n",
       "      <td>False</td>\n",
       "      <td>1916</td>\n",
       "    </tr>\n",
       "    <tr>\n",
       "      <th>127</th>\n",
       "      <td>40.770750</td>\n",
       "      <td>-73.962260</td>\n",
       "      <td>113070</td>\n",
       "      <td>Noon</td>\n",
       "      <td>0</td>\n",
       "      <td>11</td>\n",
       "      <td>False</td>\n",
       "      <td>False</td>\n",
       "      <td>False</td>\n",
       "      <td>False</td>\n",
       "      <td>False</td>\n",
       "      <td>False</td>\n",
       "      <td>False</td>\n",
       "      <td>0</td>\n",
       "    </tr>\n",
       "    <tr>\n",
       "      <th>190</th>\n",
       "      <td>40.764473</td>\n",
       "      <td>-73.961499</td>\n",
       "      <td>110110</td>\n",
       "      <td>Noon</td>\n",
       "      <td>0</td>\n",
       "      <td>11</td>\n",
       "      <td>False</td>\n",
       "      <td>False</td>\n",
       "      <td>False</td>\n",
       "      <td>False</td>\n",
       "      <td>False</td>\n",
       "      <td>False</td>\n",
       "      <td>False</td>\n",
       "      <td>16985</td>\n",
       "    </tr>\n",
       "  </tbody>\n",
       "</table>\n",
       "</div>"
      ],
      "text/plain": [
       "     location_x  location_y  Street  time  weekday Month  3d before  \\\n",
       "7     40.747630  -73.979730  100059  Noon        0    11      False   \n",
       "13    40.741881  -74.001638  134110  Noon        0    11      False   \n",
       "22    40.762040  -73.965783  118190  Noon        0    11      False   \n",
       "127   40.770750  -73.962260  113070  Noon        0    11      False   \n",
       "190   40.764473  -73.961499  110110  Noon        0    11      False   \n",
       "\n",
       "     2d before  1d before  on day  1d after  2d after  3d after  Overall  \n",
       "7        False      False   False     False     False     False        0  \n",
       "13       False      False   False     False     False     False     1503  \n",
       "22       False      False   False     False     False     False     1916  \n",
       "127      False      False   False     False     False     False        0  \n",
       "190      False      False   False     False     False     False    16985  "
      ]
     },
     "execution_count": 180,
     "metadata": {},
     "output_type": "execute_result"
    }
   ],
   "source": [
    "df_test = street_nearby\n",
    "df_test['time'] = ['Noon']*len(df_test)\n",
    "df_test['weekday'] = [week_day]*len(df_test)\n",
    "df_test['Month'] = [month]*len(df_test)\n",
    "for holiday in holiday_info.keys():\n",
    "    df_test[holiday] = [holiday_info[holiday]]*len(df_test)\n",
    "df_test= df_test.rename(columns={'street':'Street'})\n",
    "df_test['Overall'] = df_test['Street'].map(lambda x: dict_overall[int(x)] if int(x) in dict_overall else 0)\n",
    "for c in categorical_feats:\n",
    "    df_test[c] = df_test[c].astype('category')\n",
    "df_test.head()"
   ]
  },
  {
   "cell_type": "markdown",
   "metadata": {},
   "source": [
    "# Plotting"
   ]
  },
  {
   "cell_type": "markdown",
   "metadata": {},
   "source": [
    "Parking tickets are plotted in a relative manner: top 25% in red, next 25% in orange, third 25% in yellow, bottom 25% in green"
   ]
  },
  {
   "cell_type": "code",
   "execution_count": null,
   "metadata": {},
   "outputs": [],
   "source": []
  }
 ],
 "metadata": {
  "kernelspec": {
   "display_name": "Python 3",
   "language": "python",
   "name": "python3"
  },
  "language_info": {
   "codemirror_mode": {
    "name": "ipython",
    "version": 3
   },
   "file_extension": ".py",
   "mimetype": "text/x-python",
   "name": "python",
   "nbconvert_exporter": "python",
   "pygments_lexer": "ipython3",
   "version": "3.6.4"
  }
 },
 "nbformat": 4,
 "nbformat_minor": 4
}
